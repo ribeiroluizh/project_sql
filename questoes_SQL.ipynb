{
 "cells": [
  {
   "cell_type": "markdown",
   "metadata": {},
   "source": [
    "# COMEÇAR A EXECUTAR O CÓDIGO A PARTIR DAQUI!!!! (ACIMA FOI APENAS PARA CRIAR O BANCO DE DADOS, SCHEMA E TABELAS)"
   ]
  },
  {
   "cell_type": "code",
   "execution_count": null,
   "metadata": {},
   "outputs": [],
   "source": [
    "# Importando as bibliotecas e funções que serão utilizadas no projeto\n",
    "from sqlalchemy import create_engine\n",
    "import pandas as pd"
   ]
  },
  {
   "cell_type": "code",
   "execution_count": null,
   "metadata": {},
   "outputs": [],
   "source": [
    "# Conexão com o banco de dados\n",
    "SGBD = \"postgresql+psycopg2\"\n",
    "USER = \"postgres\"\n",
    "SENHA = \"senha\"\n",
    "HOST = \"localhost:\"\n",
    "DATABASE = \"postgres\"\n",
    "engine = create_engine(f\"{SGBD}://{USER}:{SENHA}@{HOST}/{DATABASE}\")\n",
    "conn = engine.connect()"
   ]
  },
  {
   "cell_type": "markdown",
   "metadata": {},
   "source": [
    "### Análise Descritiva da tabela;<br>\n",
    "\n",
    "- **Qual as tipagens das colunas?;**<br>\n",
    "- **Quantos nulos temos em cada coluna?;**<br>\n",
    "- **Quantos valores únicos temos nas colunas categoricas?;**<br>"
   ]
  },
  {
   "cell_type": "code",
   "execution_count": 23,
   "metadata": {},
   "outputs": [],
   "source": [
    "# Inserindo a tabela num dataframe\n",
    "query = '''\n",
    "SELECT * \n",
    "FROM projeto.udemy_courses\n",
    "'''\n",
    "\n",
    "df = pd.read_sql_query(query, conn)"
   ]
  },
  {
   "cell_type": "code",
   "execution_count": 25,
   "metadata": {},
   "outputs": [
    {
     "name": "stdout",
     "output_type": "stream",
     "text": [
      "<class 'pandas.core.frame.DataFrame'>\n",
      "RangeIndex: 83104 entries, 0 to 83103\n",
      "Data columns (total 11 columns):\n",
      " #   Column                  Non-Null Count  Dtype  \n",
      "---  ------                  --------------  -----  \n",
      " 0   id                      83104 non-null  int64  \n",
      " 1   title                   83104 non-null  object \n",
      " 2   url                     83104 non-null  object \n",
      " 3   rating                  83104 non-null  float64\n",
      " 4   num_reviews             83104 non-null  int64  \n",
      " 5   num_published_lectures  83104 non-null  int64  \n",
      " 6   created                 83104 non-null  object \n",
      " 7   last_update_date        83026 non-null  object \n",
      " 8   duration                83104 non-null  object \n",
      " 9   instructors_id          83104 non-null  int64  \n",
      " 10  language                83104 non-null  object \n",
      "dtypes: float64(1), int64(4), object(6)\n",
      "memory usage: 7.0+ MB\n"
     ]
    }
   ],
   "source": [
    "# Qual a tipagem das colunas?\n",
    "df.info()"
   ]
  },
  {
   "cell_type": "code",
   "execution_count": null,
   "metadata": {},
   "outputs": [],
   "source": []
  },
  {
   "cell_type": "code",
   "execution_count": null,
   "metadata": {},
   "outputs": [],
   "source": []
  },
  {
   "cell_type": "code",
   "execution_count": null,
   "metadata": {},
   "outputs": [],
   "source": []
  },
  {
   "cell_type": "code",
   "execution_count": null,
   "metadata": {},
   "outputs": [],
   "source": []
  },
  {
   "cell_type": "code",
   "execution_count": null,
   "metadata": {},
   "outputs": [],
   "source": []
  },
  {
   "cell_type": "code",
   "execution_count": null,
   "metadata": {},
   "outputs": [],
   "source": []
  },
  {
   "cell_type": "markdown",
   "metadata": {},
   "source": [
    "### Faça 10 perguntas ao seu dataset e responda-as com querys"
   ]
  },
  {
   "cell_type": "markdown",
   "metadata": {},
   "source": [
    "1. **Quais são os 10 cursos mais bem avaliados com mais de 100 avaliações?**\n",
    "   - Essa pergunta ajuda a identificar cursos de alta qualidade que possuem uma quantidade significativa de feedback dos usuários."
   ]
  },
  {
   "cell_type": "code",
   "execution_count": null,
   "metadata": {},
   "outputs": [],
   "source": []
  },
  {
   "cell_type": "markdown",
   "metadata": {},
   "source": [
    "2. **Qual é a distribuição de cursos por idioma?**\n",
    "   - Fornece insights sobre a diversidade linguística dos cursos oferecidos e potenciais mercados a serem explorados."
   ]
  },
  {
   "cell_type": "code",
   "execution_count": null,
   "metadata": {},
   "outputs": [],
   "source": []
  },
  {
   "cell_type": "markdown",
   "metadata": {},
   "source": [
    "3. **Quantos cursos foram criados por ano?**\n",
    "   - Essa análise pode mostrar tendências de crescimento ou declínio na oferta de cursos novos ao longo do tempo."
   ]
  },
  {
   "cell_type": "code",
   "execution_count": null,
   "metadata": {},
   "outputs": [],
   "source": []
  },
  {
   "cell_type": "markdown",
   "metadata": {},
   "source": [
    "4. **Qual é o curso mais antigo e o mais recentemente atualizado na plataforma?**\n",
    "   - Isso pode indicar cursos que são perenes (com longevidade na plataforma) e a frequência de atualização dos cursos."
   ]
  },
  {
   "cell_type": "code",
   "execution_count": null,
   "metadata": {},
   "outputs": [],
   "source": []
  },
  {
   "cell_type": "markdown",
   "metadata": {},
   "source": [
    "5. **Qual é a duração média dos cursos por categoria de idioma?**\n",
    "   - Revela se existe uma correlação entre o idioma do curso e sua duração, o que pode indicar preferências de aprendizado específicas de cada idioma."
   ]
  },
  {
   "cell_type": "code",
   "execution_count": null,
   "metadata": {},
   "outputs": [],
   "source": []
  },
  {
   "cell_type": "markdown",
   "metadata": {},
   "source": [
    "6. **Quais instrutores possuem o maior número de cursos na plataforma?**\n",
    "   - Destaca os instrutores mais produtivos ou populares na Udemy."
   ]
  },
  {
   "cell_type": "code",
   "execution_count": null,
   "metadata": {},
   "outputs": [],
   "source": []
  },
  {
   "cell_type": "markdown",
   "metadata": {},
   "source": [
    "7. **Há uma correlação entre o número de avaliações e a classificação dos cursos?**\n",
    "   - Investigar essa pergunta ajuda a entender se cursos mais avaliados tendem a ter classificações mais altas ou baixas."
   ]
  },
  {
   "cell_type": "code",
   "execution_count": null,
   "metadata": {},
   "outputs": [],
   "source": []
  },
  {
   "cell_type": "markdown",
   "metadata": {},
   "source": [
    "8. **Quantos cursos não possuem avaliações?**\n",
    "   - Oferece uma visão sobre quantos cursos ainda não foram avaliados, o que pode indicar novos cursos ou cursos menos populares."
   ]
  },
  {
   "cell_type": "code",
   "execution_count": null,
   "metadata": {},
   "outputs": [],
   "source": []
  },
  {
   "cell_type": "markdown",
   "metadata": {},
   "source": [
    "9. **Qual é o top 5 de cursos com maior número de aulas publicadas?**\n",
    "   - Identifica os cursos que oferecem o maior volume de conteúdo, o que pode ser um indicativo de profundidade ou abrangência do tema abordado."
   ]
  },
  {
   "cell_type": "code",
   "execution_count": null,
   "metadata": {},
   "outputs": [],
   "source": []
  },
  {
   "cell_type": "markdown",
   "metadata": {},
   "source": [
    "10. **Existem diferenças significativas na quantidade de cursos oferecidos em diferentes idiomas ao longo do tempo?**\n",
    "    - Esta análise pode mostrar como a demanda por cursos em diferentes idiomas evoluiu ao longo dos anos, refletindo potencialmente mudanças demográficas ou de interesse dos alunos."
   ]
  },
  {
   "cell_type": "code",
   "execution_count": null,
   "metadata": {},
   "outputs": [],
   "source": []
  }
 ],
 "metadata": {
  "kernelspec": {
   "display_name": ".venv",
   "language": "python",
   "name": "python3"
  },
  "language_info": {
   "codemirror_mode": {
    "name": "ipython",
    "version": 3
   },
   "file_extension": ".py",
   "mimetype": "text/x-python",
   "name": "python",
   "nbconvert_exporter": "python",
   "pygments_lexer": "ipython3",
   "version": "3.11.8"
  }
 },
 "nbformat": 4,
 "nbformat_minor": 2
}
